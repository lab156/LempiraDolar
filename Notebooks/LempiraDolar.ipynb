{
 "cells": [
  {
   "cell_type": "code",
   "execution_count": 1,
   "id": "b8d7d044-2c7c-44e2-9461-4fcc85314f05",
   "metadata": {},
   "outputs": [],
   "source": [
    "import pandas as pd\n",
    "import pysftp as sftp\n",
    "import getpass\n",
    "import os"
   ]
  },
  {
   "cell_type": "code",
   "execution_count": 2,
   "id": "c095e09d-d68c-4bef-8550-742225f41f03",
   "metadata": {},
   "outputs": [
    {
     "name": "stdin",
     "output_type": "stream",
     "text": [
      " ········\n"
     ]
    }
   ],
   "source": [
    "passwd = getpass.getpass()"
   ]
  },
  {
   "cell_type": "code",
   "execution_count": 3,
   "id": "45ed58e9-7e82-4af3-a453-2ae8bd3398df",
   "metadata": {},
   "outputs": [],
   "source": [
    "server = sftp.Connection(\n",
    "    host = 'efedequis.xyz',\n",
    "    username = 'ubuntu',\n",
    "    password = passwd\n",
    ")\n",
    "\n",
    "server.get('/tmp/lps_dolar.json')"
   ]
  },
  {
   "cell_type": "code",
   "execution_count": 4,
   "id": "ed8eecca-001a-435d-a4da-ee91360c55a1",
   "metadata": {},
   "outputs": [],
   "source": [
    "with sftp.Connection(\n",
    "    host = 'efedequis.xyz',\n",
    "    username = 'ubuntu',\n",
    "    password = passwd\n",
    ") as servobj:\n",
    "    server.get('/tmp/lps_dolar.json')"
   ]
  },
  {
   "cell_type": "code",
   "execution_count": 5,
   "id": "3744e5a8-d8cd-4ca4-94f5-9572417f92f3",
   "metadata": {},
   "outputs": [
    {
     "data": {
      "text/html": [
       "<div>\n",
       "<style scoped>\n",
       "    .dataframe tbody tr th:only-of-type {\n",
       "        vertical-align: middle;\n",
       "    }\n",
       "\n",
       "    .dataframe tbody tr th {\n",
       "        vertical-align: top;\n",
       "    }\n",
       "\n",
       "    .dataframe thead th {\n",
       "        text-align: right;\n",
       "    }\n",
       "</style>\n",
       "<table border=\"1\" class=\"dataframe\">\n",
       "  <thead>\n",
       "    <tr style=\"text-align: right;\">\n",
       "      <th></th>\n",
       "      <th>Fecha</th>\n",
       "      <th>Compra</th>\n",
       "      <th>Venta</th>\n",
       "    </tr>\n",
       "  </thead>\n",
       "  <tbody>\n",
       "    <tr>\n",
       "      <th>6335</th>\n",
       "      <td>2025-03-06T00:00:00.000Z</td>\n",
       "      <td>25.5949</td>\n",
       "      <td>25.7229</td>\n",
       "    </tr>\n",
       "    <tr>\n",
       "      <th>6336</th>\n",
       "      <td>2025-03-07T00:00:00.000Z</td>\n",
       "      <td>25.5962</td>\n",
       "      <td>25.7242</td>\n",
       "    </tr>\n",
       "    <tr>\n",
       "      <th>6337</th>\n",
       "      <td>2025-03-11T00:00:00.000Z</td>\n",
       "      <td>25.6010</td>\n",
       "      <td>25.7290</td>\n",
       "    </tr>\n",
       "    <tr>\n",
       "      <th>6338</th>\n",
       "      <td>2025-03-12T00:00:00.000Z</td>\n",
       "      <td>25.6059</td>\n",
       "      <td>25.7339</td>\n",
       "    </tr>\n",
       "    <tr>\n",
       "      <th>6339</th>\n",
       "      <td>2025-03-13T00:00:00.000Z</td>\n",
       "      <td>25.6098</td>\n",
       "      <td>25.7378</td>\n",
       "    </tr>\n",
       "  </tbody>\n",
       "</table>\n",
       "</div>"
      ],
      "text/plain": [
       "                         Fecha   Compra    Venta\n",
       "6335  2025-03-06T00:00:00.000Z  25.5949  25.7229\n",
       "6336  2025-03-07T00:00:00.000Z  25.5962  25.7242\n",
       "6337  2025-03-11T00:00:00.000Z  25.6010  25.7290\n",
       "6338  2025-03-12T00:00:00.000Z  25.6059  25.7339\n",
       "6339  2025-03-13T00:00:00.000Z  25.6098  25.7378"
      ]
     },
     "execution_count": 5,
     "metadata": {},
     "output_type": "execute_result"
    }
   ],
   "source": [
    "df = pd.read_json('lps_dolar.json', lines=True)\n",
    "df.tail()"
   ]
  },
  {
   "cell_type": "code",
   "execution_count": 20,
   "id": "9bdbc7d4-aa9f-4431-a300-59043b5a111d",
   "metadata": {},
   "outputs": [],
   "source": [
    "last2 = df.iloc[-2:]"
   ]
  },
  {
   "cell_type": "code",
   "execution_count": 26,
   "id": "04667b3e-6cc3-409a-a26e-94d3c7c80bf5",
   "metadata": {},
   "outputs": [
    {
     "data": {
      "text/plain": [
       "(0.00017525889633640546,\n",
       " 6320       NaN\n",
       " 6321    0.0045\n",
       " Name: Venta, dtype: float64)"
      ]
     },
     "execution_count": 26,
     "metadata": {},
     "output_type": "execute_result"
    }
   ],
   "source": [
    "last2['Venta'].pct_change().iloc[1], last2['Venta'].diff()"
   ]
  },
  {
   "cell_type": "code",
   "execution_count": 27,
   "id": "1c73a84d-e623-487e-baac-13f8d2d937f5",
   "metadata": {},
   "outputs": [
    {
     "data": {
      "text/plain": [
       "0.00017525889633631677"
      ]
     },
     "execution_count": 27,
     "metadata": {},
     "output_type": "execute_result"
    }
   ],
   "source": [
    "(25.6808 - 25.6763)/25.6763"
   ]
  },
  {
   "cell_type": "code",
   "execution_count": 49,
   "id": "fea2bfd2-406a-4662-9013-64717b53d386",
   "metadata": {},
   "outputs": [],
   "source": [
    "def telegram_notification(DF_path):\n",
    "    # DF_path is the path to the whole data set\n",
    "    DF = pd.read_json(DF_path, lines=True)\n",
    "    last2 = DF.iloc[-2:]\n",
    "    pct_change = last2.Venta.pct_change().iloc[1]*100\n",
    "    last2days_diff = last2.Venta.diff().iloc[1]\n",
    "    price_today = last2.Venta.iloc[1]\n",
    "    arrow = '↗'\n",
    "    if last2days_diff < 0:\n",
    "        arrow = '↘'\n",
    "    return_str = f\"Precio: {price_today} | {arrow} |\\\n",
    " LPS {last2days_diff:.4f} | {pct_change:.3f}%\"\n",
    "    return return_str"
   ]
  },
  {
   "cell_type": "code",
   "execution_count": 50,
   "id": "20e269f4-986c-4094-9d03-552339fb1585",
   "metadata": {},
   "outputs": [
    {
     "data": {
      "text/plain": [
       "'Precio: 25.6808 | ↗ | LPS 0.0045 | 0.018%'"
      ]
     },
     "execution_count": 50,
     "metadata": {},
     "output_type": "execute_result"
    }
   ],
   "source": [
    "telegram_notification('lps_dolar.json')"
   ]
  },
  {
   "cell_type": "code",
   "execution_count": 52,
   "id": "a28f99eb-8a25-44ed-a2e6-e8d3d91937ef",
   "metadata": {},
   "outputs": [
    {
     "data": {
      "text/plain": [
       "'/home/luis/code/Stonking/LempiraDolar/Notebooks'"
      ]
     },
     "execution_count": 52,
     "metadata": {},
     "output_type": "execute_result"
    }
   ],
   "source": [
    "os.getcwd()"
   ]
  },
  {
   "cell_type": "code",
   "execution_count": 1,
   "id": "178da5a9-5d76-45a4-9408-54c3276c3e88",
   "metadata": {},
   "outputs": [],
   "source": [
    "import pandas as pd\n",
    "df = pd.read_excel('COVID-19-geographic-disbtribution-worldwide-2020-12-06.xlsx')"
   ]
  },
  {
   "cell_type": "code",
   "execution_count": 7,
   "id": "f29a49d0-0a8f-4e48-8135-46a70cb12309",
   "metadata": {},
   "outputs": [
    {
     "data": {
      "text/plain": [
       "<Axes: >"
      ]
     },
     "execution_count": 7,
     "metadata": {},
     "output_type": "execute_result"
    },
    {
     "data": {
      "image/png": "[encoded data removed]",
      "text/plain": [
       "<Figure size 640x480 with 1 Axes>"
      ]
     },
     "metadata": {},
     "output_type": "display_data"
    }
   ],
   "source": [
    "df_hn = df[df.countryterritoryCode==\"HND\"]\n",
    "df_hn['Cumulative_number_for_14_days_of_COVID-19_cases_per_100000'].plot()"
   ]
  },
  {
   "cell_type": "code",
   "execution_count": null,
   "id": "deac377b-c4f1-4a42-abeb-b72953971e46",
   "metadata": {},
   "outputs": [],
   "source": []
  }
 ],
 "metadata": {
  "kernelspec": {
   "display_name": "Python 3 (ipykernel)",
   "language": "python",
   "name": "python3"
  },
  "language_info": {
   "codemirror_mode": {
    "name": "ipython",
    "version": 3
   },
   "file_extension": ".py",
   "mimetype": "text/x-python",
   "name": "python",
   "nbconvert_exporter": "python",
   "pygments_lexer": "ipython3",
   "version": "3.10.0rc1"
  }
 },
 "nbformat": 4,
 "nbformat_minor": 5
}
